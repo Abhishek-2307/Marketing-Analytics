{
 "cells": [
  {
   "cell_type": "markdown",
   "metadata": {},
   "source": [
    "## Importing Modules"
   ]
  },
  {
   "cell_type": "code",
   "execution_count": 52,
   "metadata": {},
   "outputs": [],
   "source": [
    "import pandas as pd\n",
    "import numpy as np\n",
    "%matplotlib inline\n",
    "import matplotlib.pyplot as plt\n",
    "import seaborn as sns\n",
    "import sklearn\n",
    "import scipy\n",
    "import math\n",
    "import pylab as rcParams\n",
    "import statsmodels.api as sm\n",
    "from matplotlib.pyplot import figure\n",
    "from statsmodels.graphics.gofplots import ProbPlot\n",
    "from sklearn.linear_model import LogisticRegression\n",
    "from sklearn.linear_model import LinearRegression\n",
    "from sklearn.preprocessing import scale\n",
    "from sklearn import metrics\n",
    "from sklearn import preprocessing\n",
    "from sklearn import linear_model\n",
    "from statsmodels.formula.api import ols\n",
    "from statsmodels.tools import add_constant"
   ]
  },
  {
   "cell_type": "code",
   "execution_count": 2,
   "metadata": {
    "collapsed": true
   },
   "outputs": [],
   "source": [
    "choice = pd.read_csv(\"E:/Data Science/DataCamp/Building Response Model R/mychoice.csv\",sep=\",\")"
   ]
  },
  {
   "cell_type": "markdown",
   "metadata": {},
   "source": [
    "## Customer purchases\n",
    "\n",
    "The business with the hops is highly competitive. The main competitor of Hoppiness is the nation-wide offered brand Bud. Developing an effective marketing strategy requires the analysis of Hoppiness purchases in comparison to Bud.\n",
    "\n",
    "The data sheet named choice.data is already loaded for you. You can use the function display the structure and the first few observations of sales.data."
   ]
  },
  {
   "cell_type": "code",
   "execution_count": 3,
   "metadata": {},
   "outputs": [
    {
     "data": {
      "text/html": [
       "<div>\n",
       "<style>\n",
       "    .dataframe thead tr:only-child th {\n",
       "        text-align: right;\n",
       "    }\n",
       "\n",
       "    .dataframe thead th {\n",
       "        text-align: left;\n",
       "    }\n",
       "\n",
       "    .dataframe tbody tr th {\n",
       "        vertical-align: top;\n",
       "    }\n",
       "</style>\n",
       "<table border=\"1\" class=\"dataframe\">\n",
       "  <thead>\n",
       "    <tr style=\"text-align: right;\">\n",
       "      <th></th>\n",
       "      <th>OBS</th>\n",
       "      <th>HOUSEHOLDID</th>\n",
       "      <th>LASTPURCHASE</th>\n",
       "      <th>BUD</th>\n",
       "      <th>HOPPINESS</th>\n",
       "      <th>PRICE.BUD</th>\n",
       "      <th>PRICE.HOP</th>\n",
       "      <th>DISPL.BUD</th>\n",
       "      <th>DISPL.HOP</th>\n",
       "      <th>FEAT.BUD</th>\n",
       "      <th>FEAT.HOP</th>\n",
       "      <th>FEATDISPL.BUD</th>\n",
       "      <th>FEATDISPL.HOP</th>\n",
       "    </tr>\n",
       "  </thead>\n",
       "  <tbody>\n",
       "    <tr>\n",
       "      <th>0</th>\n",
       "      <td>1</td>\n",
       "      <td>1</td>\n",
       "      <td>0</td>\n",
       "      <td>1</td>\n",
       "      <td>0</td>\n",
       "      <td>0.052</td>\n",
       "      <td>0.034</td>\n",
       "      <td>0</td>\n",
       "      <td>0</td>\n",
       "      <td>0</td>\n",
       "      <td>0</td>\n",
       "      <td>0</td>\n",
       "      <td>0</td>\n",
       "    </tr>\n",
       "    <tr>\n",
       "      <th>1</th>\n",
       "      <td>2</td>\n",
       "      <td>1</td>\n",
       "      <td>0</td>\n",
       "      <td>1</td>\n",
       "      <td>0</td>\n",
       "      <td>0.052</td>\n",
       "      <td>0.044</td>\n",
       "      <td>0</td>\n",
       "      <td>0</td>\n",
       "      <td>0</td>\n",
       "      <td>0</td>\n",
       "      <td>0</td>\n",
       "      <td>0</td>\n",
       "    </tr>\n",
       "    <tr>\n",
       "      <th>2</th>\n",
       "      <td>3</td>\n",
       "      <td>1</td>\n",
       "      <td>0</td>\n",
       "      <td>1</td>\n",
       "      <td>0</td>\n",
       "      <td>0.046</td>\n",
       "      <td>0.048</td>\n",
       "      <td>0</td>\n",
       "      <td>0</td>\n",
       "      <td>1</td>\n",
       "      <td>0</td>\n",
       "      <td>0</td>\n",
       "      <td>0</td>\n",
       "    </tr>\n",
       "    <tr>\n",
       "      <th>3</th>\n",
       "      <td>4</td>\n",
       "      <td>1</td>\n",
       "      <td>0</td>\n",
       "      <td>1</td>\n",
       "      <td>0</td>\n",
       "      <td>0.052</td>\n",
       "      <td>0.034</td>\n",
       "      <td>0</td>\n",
       "      <td>0</td>\n",
       "      <td>0</td>\n",
       "      <td>0</td>\n",
       "      <td>0</td>\n",
       "      <td>0</td>\n",
       "    </tr>\n",
       "    <tr>\n",
       "      <th>4</th>\n",
       "      <td>5</td>\n",
       "      <td>1</td>\n",
       "      <td>0</td>\n",
       "      <td>1</td>\n",
       "      <td>0</td>\n",
       "      <td>0.046</td>\n",
       "      <td>0.048</td>\n",
       "      <td>0</td>\n",
       "      <td>0</td>\n",
       "      <td>1</td>\n",
       "      <td>0</td>\n",
       "      <td>0</td>\n",
       "      <td>0</td>\n",
       "    </tr>\n",
       "  </tbody>\n",
       "</table>\n",
       "</div>"
      ],
      "text/plain": [
       "   OBS  HOUSEHOLDID  LASTPURCHASE  BUD  HOPPINESS  PRICE.BUD  PRICE.HOP  \\\n",
       "0    1            1             0    1          0      0.052      0.034   \n",
       "1    2            1             0    1          0      0.052      0.044   \n",
       "2    3            1             0    1          0      0.046      0.048   \n",
       "3    4            1             0    1          0      0.052      0.034   \n",
       "4    5            1             0    1          0      0.046      0.048   \n",
       "\n",
       "   DISPL.BUD  DISPL.HOP  FEAT.BUD  FEAT.HOP  FEATDISPL.BUD  FEATDISPL.HOP  \n",
       "0          0          0         0         0              0              0  \n",
       "1          0          0         0         0              0              0  \n",
       "2          0          0         1         0              0              0  \n",
       "3          0          0         0         0              0              0  \n",
       "4          0          0         1         0              0              0  "
      ]
     },
     "execution_count": 3,
     "metadata": {},
     "output_type": "execute_result"
    }
   ],
   "source": [
    "choice.head()"
   ]
  },
  {
   "cell_type": "code",
   "execution_count": 5,
   "metadata": {},
   "outputs": [
    {
     "data": {
      "text/plain": [
       "OBS                int64\n",
       "HOUSEHOLDID        int64\n",
       "LASTPURCHASE       int64\n",
       "BUD                int64\n",
       "HOPPINESS          int64\n",
       "PRICE.BUD        float64\n",
       "PRICE.HOP        float64\n",
       "DISPL.BUD          int64\n",
       "DISPL.HOP          int64\n",
       "FEAT.BUD           int64\n",
       "FEAT.HOP           int64\n",
       "FEATDISPL.BUD      int64\n",
       "FEATDISPL.HOP      int64\n",
       "dtype: object"
      ]
     },
     "execution_count": 5,
     "metadata": {},
     "output_type": "execute_result"
    }
   ],
   "source": [
    "choice.dtypes"
   ]
  },
  {
   "cell_type": "markdown",
   "metadata": {},
   "source": [
    "## Summarizing the data\n",
    "\n",
    "You start by summarizing the purchases and prices for HOPPINESS and BUD. You calculate the mean of the purchases as well as the average PRICE.HOP and PRICE.BUD levels by using the function colMeans(). The function colMeans() calculates the means across all specified columns simultaneously."
   ]
  },
  {
   "cell_type": "code",
   "execution_count": 29,
   "metadata": {},
   "outputs": [
    {
     "data": {
      "text/html": [
       "<div>\n",
       "<style>\n",
       "    .dataframe thead tr:only-child th {\n",
       "        text-align: right;\n",
       "    }\n",
       "\n",
       "    .dataframe thead th {\n",
       "        text-align: left;\n",
       "    }\n",
       "\n",
       "    .dataframe tbody tr th {\n",
       "        vertical-align: top;\n",
       "    }\n",
       "</style>\n",
       "<table border=\"1\" class=\"dataframe\">\n",
       "  <thead>\n",
       "    <tr style=\"text-align: right;\">\n",
       "      <th></th>\n",
       "      <th>OBS</th>\n",
       "      <th>HOUSEHOLDID</th>\n",
       "      <th>LASTPURCHASE</th>\n",
       "      <th>BUD</th>\n",
       "      <th>HOPPINESS</th>\n",
       "      <th>PRICE.BUD</th>\n",
       "      <th>PRICE.HOP</th>\n",
       "      <th>DISPL.BUD</th>\n",
       "      <th>DISPL.HOP</th>\n",
       "      <th>FEAT.BUD</th>\n",
       "      <th>FEAT.HOP</th>\n",
       "      <th>FEATDISPL.BUD</th>\n",
       "      <th>FEATDISPL.HOP</th>\n",
       "      <th>P_Ratio</th>\n",
       "    </tr>\n",
       "  </thead>\n",
       "  <tbody>\n",
       "    <tr>\n",
       "      <th>count</th>\n",
       "      <td>2798.000000</td>\n",
       "      <td>2798.000000</td>\n",
       "      <td>2798.000000</td>\n",
       "      <td>2798.000000</td>\n",
       "      <td>2798.000000</td>\n",
       "      <td>2798.000000</td>\n",
       "      <td>2798.000000</td>\n",
       "      <td>2798.000000</td>\n",
       "      <td>2798.000000</td>\n",
       "      <td>2798.000000</td>\n",
       "      <td>2798.000000</td>\n",
       "      <td>2798.000000</td>\n",
       "      <td>2798.000000</td>\n",
       "      <td>2798.000000</td>\n",
       "    </tr>\n",
       "    <tr>\n",
       "      <th>mean</th>\n",
       "      <td>1399.500000</td>\n",
       "      <td>150.077555</td>\n",
       "      <td>0.107219</td>\n",
       "      <td>0.899929</td>\n",
       "      <td>0.100071</td>\n",
       "      <td>0.034828</td>\n",
       "      <td>0.033555</td>\n",
       "      <td>0.159757</td>\n",
       "      <td>0.035382</td>\n",
       "      <td>0.124732</td>\n",
       "      <td>0.036455</td>\n",
       "      <td>0.037527</td>\n",
       "      <td>0.009292</td>\n",
       "      <td>-0.010370</td>\n",
       "    </tr>\n",
       "    <tr>\n",
       "      <th>std</th>\n",
       "      <td>807.857351</td>\n",
       "      <td>86.322793</td>\n",
       "      <td>0.309447</td>\n",
       "      <td>0.300149</td>\n",
       "      <td>0.300149</td>\n",
       "      <td>0.008974</td>\n",
       "      <td>0.005307</td>\n",
       "      <td>0.366446</td>\n",
       "      <td>0.184777</td>\n",
       "      <td>0.330474</td>\n",
       "      <td>0.187452</td>\n",
       "      <td>0.190083</td>\n",
       "      <td>0.095965</td>\n",
       "      <td>0.363890</td>\n",
       "    </tr>\n",
       "    <tr>\n",
       "      <th>min</th>\n",
       "      <td>1.000000</td>\n",
       "      <td>1.000000</td>\n",
       "      <td>0.000000</td>\n",
       "      <td>0.000000</td>\n",
       "      <td>0.000000</td>\n",
       "      <td>0.001000</td>\n",
       "      <td>0.003000</td>\n",
       "      <td>0.000000</td>\n",
       "      <td>0.000000</td>\n",
       "      <td>0.000000</td>\n",
       "      <td>0.000000</td>\n",
       "      <td>0.000000</td>\n",
       "      <td>0.000000</td>\n",
       "      <td>-2.646963</td>\n",
       "    </tr>\n",
       "    <tr>\n",
       "      <th>25%</th>\n",
       "      <td>700.250000</td>\n",
       "      <td>77.000000</td>\n",
       "      <td>0.000000</td>\n",
       "      <td>1.000000</td>\n",
       "      <td>0.000000</td>\n",
       "      <td>0.030000</td>\n",
       "      <td>0.031000</td>\n",
       "      <td>0.000000</td>\n",
       "      <td>0.000000</td>\n",
       "      <td>0.000000</td>\n",
       "      <td>0.000000</td>\n",
       "      <td>0.000000</td>\n",
       "      <td>0.000000</td>\n",
       "      <td>-0.234840</td>\n",
       "    </tr>\n",
       "    <tr>\n",
       "      <th>50%</th>\n",
       "      <td>1399.500000</td>\n",
       "      <td>154.000000</td>\n",
       "      <td>0.000000</td>\n",
       "      <td>1.000000</td>\n",
       "      <td>0.000000</td>\n",
       "      <td>0.034000</td>\n",
       "      <td>0.034000</td>\n",
       "      <td>0.000000</td>\n",
       "      <td>0.000000</td>\n",
       "      <td>0.000000</td>\n",
       "      <td>0.000000</td>\n",
       "      <td>0.000000</td>\n",
       "      <td>0.000000</td>\n",
       "      <td>-0.084557</td>\n",
       "    </tr>\n",
       "    <tr>\n",
       "      <th>75%</th>\n",
       "      <td>2098.750000</td>\n",
       "      <td>224.000000</td>\n",
       "      <td>0.000000</td>\n",
       "      <td>1.000000</td>\n",
       "      <td>0.000000</td>\n",
       "      <td>0.042000</td>\n",
       "      <td>0.036000</td>\n",
       "      <td>0.000000</td>\n",
       "      <td>0.000000</td>\n",
       "      <td>0.000000</td>\n",
       "      <td>0.000000</td>\n",
       "      <td>0.000000</td>\n",
       "      <td>0.000000</td>\n",
       "      <td>0.176931</td>\n",
       "    </tr>\n",
       "    <tr>\n",
       "      <th>max</th>\n",
       "      <td>2798.000000</td>\n",
       "      <td>300.000000</td>\n",
       "      <td>1.000000</td>\n",
       "      <td>1.000000</td>\n",
       "      <td>1.000000</td>\n",
       "      <td>0.061000</td>\n",
       "      <td>0.087000</td>\n",
       "      <td>1.000000</td>\n",
       "      <td>1.000000</td>\n",
       "      <td>1.000000</td>\n",
       "      <td>1.000000</td>\n",
       "      <td>1.000000</td>\n",
       "      <td>1.000000</td>\n",
       "      <td>3.610918</td>\n",
       "    </tr>\n",
       "  </tbody>\n",
       "</table>\n",
       "</div>"
      ],
      "text/plain": [
       "               OBS  HOUSEHOLDID  LASTPURCHASE          BUD    HOPPINESS  \\\n",
       "count  2798.000000  2798.000000   2798.000000  2798.000000  2798.000000   \n",
       "mean   1399.500000   150.077555      0.107219     0.899929     0.100071   \n",
       "std     807.857351    86.322793      0.309447     0.300149     0.300149   \n",
       "min       1.000000     1.000000      0.000000     0.000000     0.000000   \n",
       "25%     700.250000    77.000000      0.000000     1.000000     0.000000   \n",
       "50%    1399.500000   154.000000      0.000000     1.000000     0.000000   \n",
       "75%    2098.750000   224.000000      0.000000     1.000000     0.000000   \n",
       "max    2798.000000   300.000000      1.000000     1.000000     1.000000   \n",
       "\n",
       "         PRICE.BUD    PRICE.HOP    DISPL.BUD    DISPL.HOP     FEAT.BUD  \\\n",
       "count  2798.000000  2798.000000  2798.000000  2798.000000  2798.000000   \n",
       "mean      0.034828     0.033555     0.159757     0.035382     0.124732   \n",
       "std       0.008974     0.005307     0.366446     0.184777     0.330474   \n",
       "min       0.001000     0.003000     0.000000     0.000000     0.000000   \n",
       "25%       0.030000     0.031000     0.000000     0.000000     0.000000   \n",
       "50%       0.034000     0.034000     0.000000     0.000000     0.000000   \n",
       "75%       0.042000     0.036000     0.000000     0.000000     0.000000   \n",
       "max       0.061000     0.087000     1.000000     1.000000     1.000000   \n",
       "\n",
       "          FEAT.HOP  FEATDISPL.BUD  FEATDISPL.HOP      P_Ratio  \n",
       "count  2798.000000    2798.000000    2798.000000  2798.000000  \n",
       "mean      0.036455       0.037527       0.009292    -0.010370  \n",
       "std       0.187452       0.190083       0.095965     0.363890  \n",
       "min       0.000000       0.000000       0.000000    -2.646963  \n",
       "25%       0.000000       0.000000       0.000000    -0.234840  \n",
       "50%       0.000000       0.000000       0.000000    -0.084557  \n",
       "75%       0.000000       0.000000       0.000000     0.176931  \n",
       "max       1.000000       1.000000       1.000000     3.610918  "
      ]
     },
     "execution_count": 29,
     "metadata": {},
     "output_type": "execute_result"
    }
   ],
   "source": [
    "choice.describe()"
   ]
  },
  {
   "cell_type": "markdown",
   "metadata": {},
   "source": [
    "## A linear probability model for beer demand\n",
    "\n",
    "To see how much of an effect changes in price have on the purchases of Hoppiness, you display the relationship HOPPINESS ~ PRICE.HOP by using the function plot()\n",
    "\n",
    "Again, you assume the relationship between HOPPINESS and PRICE.HOP to be linear by using the function lm(). You add the model predictions resulting from the model coefficients directly to the graph by using the function regplot()."
   ]
  },
  {
   "cell_type": "code",
   "execution_count": 22,
   "metadata": {},
   "outputs": [
    {
     "data": {
      "image/png": "[encoded data removed]",
      "text/plain": [
       "<matplotlib.figure.Figure at 0x19f2eca6550>"
      ]
     },
     "metadata": {},
     "output_type": "display_data"
    }
   ],
   "source": [
    "# Plot outputs\n",
    "plt.figure(figsize=(7,5))\n",
    "sns.plt.ylim(-0.1, 1.1)\n",
    "sns.regplot(data=choice,\n",
    "           x='PRICE.HOP',\n",
    "           y='HOPPINESS')\n",
    "plt.show()"
   ]
  },
  {
   "cell_type": "markdown",
   "metadata": {},
   "source": [
    "## Competition\n",
    "\n",
    "Developing an effective pricing strategy for Hoppiness also requires considering the prices for Bud. The best way to consider Bud in your model is by price comparisons. You define a new variable price.ratio indicating the ratio of PRICE.HOP to PRICE.BUD. To ensure symmetry thus, to ensure that the price ratio of Hoppiness to Bud has the same magnitude as the price ratio of Bud to Hoppiness, you additionally take the log().\n",
    "\n",
    "To investigate the effects of changes in the price ratio on the purchase probabilities, you display the relation HOPPINESS ~ price.ratio by using the function plot(). The relation is again described by using the function lm(). The corresponding model predictions are added to the graph by using the function regplot()."
   ]
  },
  {
   "cell_type": "code",
   "execution_count": 54,
   "metadata": {},
   "outputs": [],
   "source": [
    "price_ratio = np.log(choice[\"PRICE.HOP\"]/choice[\"PRICE.BUD\"])"
   ]
  },
  {
   "cell_type": "code",
   "execution_count": 55,
   "metadata": {},
   "outputs": [
    {
     "data": {
      "text/plain": [
       "0   -0.424883\n",
       "1   -0.167054\n",
       "2    0.042560\n",
       "3   -0.424883\n",
       "4    0.042560\n",
       "5   -0.448950\n",
       "6   -0.115069\n",
       "7   -0.394654\n",
       "8   -0.416160\n",
       "9   -0.579818\n",
       "dtype: float64"
      ]
     },
     "execution_count": 55,
     "metadata": {},
     "output_type": "execute_result"
    }
   ],
   "source": [
    "price_ratio.head(10)"
   ]
  },
  {
   "cell_type": "code",
   "execution_count": 27,
   "metadata": {
    "collapsed": true
   },
   "outputs": [],
   "source": [
    "choice[\"P_Ratio\"] = price_ratio"
   ]
  },
  {
   "cell_type": "code",
   "execution_count": 28,
   "metadata": {},
   "outputs": [
    {
     "data": {
      "image/png": "[encoded data removed]",
      "text/plain": [
       "<matplotlib.figure.Figure at 0x19f2ec7a7f0>"
      ]
     },
     "metadata": {},
     "output_type": "display_data"
    }
   ],
   "source": [
    "# Plot outputs\n",
    "plt.figure(figsize=(7,5))\n",
    "sns.plt.ylim(-0.1, 1.1)\n",
    "sns.regplot(data=choice,\n",
    "           x='P_Ratio',\n",
    "           y='HOPPINESS')\n",
    "plt.show()"
   ]
  },
  {
   "cell_type": "markdown",
   "metadata": {},
   "source": [
    "## A logistic model for beer demand\n",
    "\n",
    "The linear model does not fit the data when it comes to predicting purchase probabilities. This time, you use the function GLM() to describe the relation HOPPINESS ~ price.ratio\n",
    "\n",
    "As HOPPINESS is a binary variable, you also have to specify the family argument as binomial. As usual, the estimated coefficients are obtained by using the function coef()"
   ]
  },
  {
   "cell_type": "code",
   "execution_count": 43,
   "metadata": {},
   "outputs": [
    {
     "name": "stderr",
     "output_type": "stream",
     "text": [
      "C:\\ProgramData\\Anaconda3\\lib\\site-packages\\sklearn\\utils\\validation.py:526: DataConversionWarning: A column-vector y was passed when a 1d array was expected. Please change the shape of y to (n_samples, ), for example using ravel().\n",
      "  y = column_or_1d(y, warn=True)\n"
     ]
    }
   ],
   "source": [
    "clf = LogisticRegression(random_state=0, solver='lbfgs',\n",
    "                             multi_class='multinomial').fit(choice[[\"P_Ratio\"]], choice[[\"HOPPINESS\"]])"
   ]
  },
  {
   "cell_type": "code",
   "execution_count": 41,
   "metadata": {},
   "outputs": [
    {
     "name": "stdout",
     "output_type": "stream",
     "text": [
      "                 Generalized Linear Model Regression Results                  \n",
      "==============================================================================\n",
      "Dep. Variable:              HOPPINESS   No. Observations:                 2798\n",
      "Model:                            GLM   Df Residuals:                     2797\n",
      "Model Family:                Gaussian   Df Model:                            0\n",
      "Link Function:               identity   Scale:                 0.0878967442691\n",
      "Method:                          IRLS   Log-Likelihood:                -567.89\n",
      "Date:                Tue, 29 Jan 2019   Deviance:                       245.85\n",
      "Time:                        18:13:53   Pearson chi2:                     246.\n",
      "No. Iterations:                     2                                         \n",
      "==============================================================================\n",
      "                 coef    std err          z      P>|z|      [0.025      0.975]\n",
      "------------------------------------------------------------------------------\n",
      "P_Ratio       -0.3035      0.015    -19.712      0.000      -0.334      -0.273\n",
      "==============================================================================\n"
     ]
    }
   ],
   "source": [
    "logistic_model = sm.GLM(choice[\"HOPPINESS\"],choice[\"P_Ratio\"])\n",
    "logitMod = logistic_model.fit()\n",
    "print(logitMod.summary())"
   ]
  },
  {
   "cell_type": "code",
   "execution_count": 45,
   "metadata": {},
   "outputs": [
    {
     "name": "stdout",
     "output_type": "stream",
     "text": [
      "[[-3.1313977]]\n",
      "[-1.71479244]\n"
     ]
    }
   ],
   "source": [
    "print(clf.coef_)\n",
    "print(clf.intercept_)"
   ]
  },
  {
   "cell_type": "markdown",
   "metadata": {},
   "source": [
    "## Predictive performance\n",
    "\n",
    "The glm() function is used because you need a response function that bounds the model predictions between zero and one. This effect is best illustrated in a graph.\n",
    "\n",
    "Again, you display the relation HOPPINESS ~ price.ratio by using the function plot(). You obtain the model predictions by using the function fitted() on the logistic.model object. To add the corresponding logistic function to the graph you need to fit a curve (not a straight line) through the predicted data values.\n",
    "\n",
    "Therefore, you first sort the predicted values together with the price.ratio values in decreasing order by using the function order(). Afterwards you join the sorted data points sequentially by using the function lines()."
   ]
  },
  {
   "cell_type": "code",
   "execution_count": 49,
   "metadata": {},
   "outputs": [
    {
     "data": {
      "image/png": "[encoded data removed]",
      "text/plain": [
       "<matplotlib.figure.Figure at 0x19f2d86b240>"
      ]
     },
     "metadata": {},
     "output_type": "display_data"
    }
   ],
   "source": [
    "# Plot outputs\n",
    "plt.figure(figsize=(7,5))\n",
    "sns.plt.ylim(-0.1, 1.1)\n",
    "sns.plt.xlim(-1.25, 1.25)\n",
    "sns.regplot(data=choice,\n",
    "           x='P_Ratio',\n",
    "           y='HOPPINESS',\n",
    "           logistic=True)\n",
    "plt.show()"
   ]
  },
  {
   "cell_type": "code",
   "execution_count": 61,
   "metadata": {},
   "outputs": [
    {
     "ename": "SyntaxError",
     "evalue": "invalid syntax (<ipython-input-61-d7c1ecbcd5cd>, line 4)",
     "output_type": "error",
     "traceback": [
      "\u001b[1;36m  File \u001b[1;32m\"<ipython-input-61-d7c1ecbcd5cd>\"\u001b[1;36m, line \u001b[1;32m4\u001b[0m\n\u001b[1;33m    res = logit.fit(method='auto')\u001b[0m\n\u001b[1;37m      ^\u001b[0m\n\u001b[1;31mSyntaxError\u001b[0m\u001b[1;31m:\u001b[0m invalid syntax\n"
     ]
    }
   ],
   "source": [
    "from statsmodels.discrete.discrete_model import Logit\n",
    "\n",
    "logit = Logit(y, x)\n",
    "res = logit.fit(method='bfgs')\n",
    "# marginal effects at the mean\n",
    "me = res.get_margeff(at='mean').summary()"
   ]
  },
  {
   "cell_type": "code",
   "execution_count": null,
   "metadata": {
    "collapsed": true
   },
   "outputs": [],
   "source": []
  }
 ],
 "metadata": {
  "kernelspec": {
   "display_name": "Python 3",
   "language": "python",
   "name": "python3"
  },
  "language_info": {
   "codemirror_mode": {
    "name": "ipython",
    "version": 3
   },
   "file_extension": ".py",
   "mimetype": "text/x-python",
   "name": "python",
   "nbconvert_exporter": "python",
   "pygments_lexer": "ipython3",
   "version": "3.6.1"
  }
 },
 "nbformat": 4,
 "nbformat_minor": 2
}
